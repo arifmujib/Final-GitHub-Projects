{
 "cells": [
  {
   "cell_type": "markdown",
   "metadata": {},
   "source": [
    "# <b> <center> Project: Collaborative Filtering with Gaussian Mixtures"
   ]
  },
  {
   "cell_type": "code",
   "execution_count": 1,
   "metadata": {},
   "outputs": [],
   "source": [
    "import numpy as np\n",
    "import kmeans_clustering\n",
    "import tools\n",
    "import em_simple\n",
    "import em_method"
   ]
  },
  {
   "cell_type": "code",
   "execution_count": 2,
   "metadata": {},
   "outputs": [
    {
     "data": {
      "text/plain": [
       "(250, 2)"
      ]
     },
     "execution_count": 2,
     "metadata": {},
     "output_type": "execute_result"
    }
   ],
   "source": [
    "X= np.loadtxt('toy_data.txt')\n",
    "X.shape"
   ]
  },
  {
   "cell_type": "code",
   "execution_count": 3,
   "metadata": {},
   "outputs": [
    {
     "data": {
      "text/plain": [
       "-1388.081800044069"
      ]
     },
     "execution_count": 3,
     "metadata": {},
     "output_type": "execute_result"
    }
   ],
   "source": [
    "mix, post = tools.init(X, 3)\n",
    "post, ll = em_method.estep(X, mix)\n",
    "mix = em_method.mstep(X, post, mix)\n",
    "ll"
   ]
  },
  {
   "cell_type": "code",
   "execution_count": 4,
   "metadata": {},
   "outputs": [
    {
     "name": "stdout",
     "output_type": "stream",
     "text": [
      "Likelihood is :  -1399820.8093013526\n"
     ]
    }
   ],
   "source": [
    "X= np.loadtxt('netflix_incomplete.txt')\n",
    "K=np.array([12])\n",
    "s=0\n",
    "for kk in K:\n",
    "    mix, post = tools.init( X, kk, s)\n",
    "    mixture, post, ll = em_method.run(X, mix, post)\n",
    "    print('Likelihood is : ',ll)\n",
    "    #common.plot( X, mixture, post, title='The  model for K = %d'%(kk))"
   ]
  },
  {
   "cell_type": "code",
   "execution_count": 5,
   "metadata": {},
   "outputs": [
    {
     "name": "stdout",
     "output_type": "stream",
     "text": [
      "Likelihood for seed  0  is :  -1399820.8093013526\n",
      "Likelihood for seed  1  is :  -1390280.999157461\n"
     ]
    }
   ],
   "source": [
    "for s in range(2):\n",
    "    mix, post = tools.init( X, 12, s)\n",
    "    mixture, post, ll = em_method.run(X, mix, post)\n",
    "    print('Likelihood for seed ',s, ' is : ',ll)"
   ]
  },
  {
   "cell_type": "code",
   "execution_count": 6,
   "metadata": {},
   "outputs": [
    {
     "data": {
      "text/plain": [
       "1271"
      ]
     },
     "execution_count": 6,
     "metadata": {},
     "output_type": "execute_result"
    }
   ],
   "source": [
    "mix, post = tools.init( X, 12, 1)\n",
    "mixture, post, ll = em_method.run(X, mix, post)\n",
    "\n",
    "xx = em_method.fill_matrix(X, mixture)\n",
    "np.sum(xx==0)"
   ]
  },
  {
   "cell_type": "code",
   "execution_count": 7,
   "metadata": {},
   "outputs": [
    {
     "data": {
      "text/plain": [
       "1.6787480867863673"
      ]
     },
     "execution_count": 7,
     "metadata": {},
     "output_type": "execute_result"
    }
   ],
   "source": [
    "Y = np.loadtxt('netflix_complete.txt')\n",
    "\n",
    "tools.rmse(X,Y)"
   ]
  },
  {
   "cell_type": "code",
   "execution_count": 8,
   "metadata": {},
   "outputs": [
    {
     "data": {
      "text/plain": [
       "0.48050704941977734"
      ]
     },
     "execution_count": 8,
     "metadata": {},
     "output_type": "execute_result"
    }
   ],
   "source": [
    "tools.rmse(xx,Y)"
   ]
  }
 ],
 "metadata": {
  "kernelspec": {
   "display_name": "Python 3",
   "language": "python",
   "name": "python3"
  },
  "language_info": {
   "codemirror_mode": {
    "name": "ipython",
    "version": 3
   },
   "file_extension": ".py",
   "mimetype": "text/x-python",
   "name": "python",
   "nbconvert_exporter": "python",
   "pygments_lexer": "ipython3",
   "version": "3.8.3"
  }
 },
 "nbformat": 4,
 "nbformat_minor": 4
}
