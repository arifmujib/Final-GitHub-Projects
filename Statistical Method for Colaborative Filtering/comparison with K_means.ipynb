{
 "cells": [
  {
   "cell_type": "markdown",
   "metadata": {},
   "source": [
    "# <center><b> Collaborative Filtering With Gaussian Mixtures</b></center>\n",
    "\n"
   ]
  },
  {
   "cell_type": "code",
   "execution_count": 1,
   "metadata": {},
   "outputs": [],
   "source": [
    "import numpy as np\n",
    "import kmeans_clustering as kmeans\n",
    "import tools\n",
    "import em_simple\n",
    "import em_method"
   ]
  },
  {
   "cell_type": "code",
   "execution_count": 2,
   "metadata": {},
   "outputs": [],
   "source": [
    "X = np.loadtxt(\"toy_data.txt\")"
   ]
  },
  {
   "cell_type": "code",
   "execution_count": 3,
   "metadata": {},
   "outputs": [],
   "source": [
    "k=3\n",
    "seed=0"
   ]
  },
  {
   "cell_type": "code",
   "execution_count": 5,
   "metadata": {},
   "outputs": [
    {
     "name": "stdout",
     "output_type": "stream",
     "text": [
      "(250, 2)  and  (250, 3)  and  -1388.0818000440702\n"
     ]
    }
   ],
   "source": [
    "mix, post = tools.init( X, k, seed)\n",
    "prob, post = em_simple.estep(X, mix)\n",
    "\n",
    "print(X.shape,' and ',prob.shape, ' and ', post)"
   ]
  },
  {
   "cell_type": "code",
   "execution_count": 6,
   "metadata": {},
   "outputs": [],
   "source": [
    "K = np.array([1,2,3,4])\n",
    "seed = np.array([ 0, 1, 2, 3, 4])"
   ]
  },
  {
   "cell_type": "code",
   "execution_count": 8,
   "metadata": {},
   "outputs": [
    {
     "name": "stdout",
     "output_type": "stream",
     "text": [
      "The cost for K = 3 and seed 0 is :  -1138.8908996872674\n"
     ]
    }
   ],
   "source": [
    "kk= 3\n",
    "s = 0\n",
    "\n",
    "mix, post = tools.init( X, kk, s)\n",
    "mixture, post, ll = em_simple.run(X, mix, post)\n",
    "print('The cost for K = %d and seed %d is : '%(kk, s), ll)\n",
    "#common.plot( X, mixture, post, title='The mixture model for K = %d and seed %d'%(kk, s))"
   ]
  },
  {
   "cell_type": "code",
   "execution_count": null,
   "metadata": {},
   "outputs": [],
   "source": [
    "common.plot( X, mixture, post, title='The mixture model for K = %d'%(kk))"
   ]
  },
  {
   "cell_type": "code",
   "execution_count": null,
   "metadata": {},
   "outputs": [],
   "source": [
    "l = np.zeros_like(seed)\n",
    "l2= np.zeros_like(seed)\n",
    "for kk in K:\n",
    "    for s in seed:\n",
    "        mix, post = common.init( X, kk, s)\n",
    "        mixture, post, ll = naive_em.run(X, mix, post)\n",
    "        mix2, post2 = common.init( X, kk, s)\n",
    "        mixture2, post2, cost = kmeans.run(X, mix2, post2)\n",
    "        l2[s] = cost\n",
    "        l[s]=ll\n",
    "        #print( ll,' and')\n",
    "    sm = l.argmin()\n",
    "    sm2 = l2.argmin()\n",
    "    \n",
    "    mix, post = common.init( X, kk, sm)\n",
    "    mixture, post, ll = naive_em.run(X, mix, post)\n",
    "    \n",
    "    mix2, post2 = common.init( X, kk, sm2)\n",
    "    mixture2, post2, cost = kmeans.run(X, mix2, post2)\n",
    "    \n",
    "    common.plot( X, mixture, post, title='The  model for K = %d'%(kk))\n",
    "    common.plot( X, mixture2, post2, title='The K-means model for K = %d'%(kk))"
   ]
  },
  {
   "cell_type": "markdown",
   "metadata": {},
   "source": [
    "# Optimizing with <b>BIC</b> (Bayesian Information Criterion) "
   ]
  },
  {
   "cell_type": "code",
   "execution_count": null,
   "metadata": {},
   "outputs": [],
   "source": [
    "s = 0\n",
    "l= np.zeros_like(K)\n",
    "\n",
    "for kk in K:\n",
    "    mix, post = common.init( X, kk, s)\n",
    "    mixture, post, ll = naive_em.run(X, mix, post)\n",
    "    l[kk-1] = common.bic(X, mixture, ll)\n",
    "    \n",
    "print('Best K is = ',(l.argmax()+1))\n",
    "print('Best BIC is ',l[l.argmax()])"
   ]
  },
  {
   "cell_type": "code",
   "execution_count": null,
   "metadata": {},
   "outputs": [],
   "source": [
    "mix, post = common.init( X, 3, s)\n",
    "mixture, post, ll = naive_em.run(X, mix, post)\n",
    "common.bic(X, mixture, ll)"
   ]
  },
  {
   "cell_type": "code",
   "execution_count": null,
   "metadata": {},
   "outputs": [],
   "source": []
  }
 ],
 "metadata": {
  "kernelspec": {
   "display_name": "Python 3",
   "language": "python",
   "name": "python3"
  },
  "language_info": {
   "codemirror_mode": {
    "name": "ipython",
    "version": 3
   },
   "file_extension": ".py",
   "mimetype": "text/x-python",
   "name": "python",
   "nbconvert_exporter": "python",
   "pygments_lexer": "ipython3",
   "version": "3.8.3"
  }
 },
 "nbformat": 4,
 "nbformat_minor": 4
}
