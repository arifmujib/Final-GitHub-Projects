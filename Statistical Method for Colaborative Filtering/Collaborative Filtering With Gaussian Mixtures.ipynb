{
 "cells": [
  {
   "cell_type": "markdown",
   "metadata": {},
   "source": [
    "# <b> <center> Project: Collaborative Filtering with Gaussian Mixtures</b> </center>\n",
    "\n",
    "In this project, we have users movie ratings data extracted from Netflix database. The data has a lot of missing data since a lot of users have not seen the movie yet or did not rated the movie. If we can predict what the ratings could be, we can use this knowledge to recommend new movies to the user. <b>Collaborative filtering</b> is a great way to fill up the gaps based on the existing user data. We are using Expectation Maximization <b>(EM)</b> algorithm. It iteratively assigns the data with Gaussian Mixtures Model and then use the model to predict the missing entries in the data."
   ]
  },
  {
   "cell_type": "code",
   "execution_count": 1,
   "metadata": {},
   "outputs": [],
   "source": [
    "import numpy as np\n",
    "import kmeans_clustering\n",
    "import tools\n",
    "import em_simple\n",
    "import em_method"
   ]
  },
  {
   "cell_type": "markdown",
   "metadata": {},
   "source": [
    "## Testing with Toy Data\n",
    "Here we will test our algorithm with a toy dataset. This will make sure that our algorithm is working."
   ]
  },
  {
   "cell_type": "code",
   "execution_count": 2,
   "metadata": {},
   "outputs": [
    {
     "data": {
      "text/plain": [
       "(250, 2)"
      ]
     },
     "execution_count": 2,
     "metadata": {},
     "output_type": "execute_result"
    }
   ],
   "source": [
    "X= np.loadtxt('toy_data.txt')\n",
    "X.shape"
   ]
  },
  {
   "cell_type": "code",
   "execution_count": 3,
   "metadata": {},
   "outputs": [
    {
     "data": {
      "text/plain": [
       "-1388.081800044069"
      ]
     },
     "execution_count": 3,
     "metadata": {},
     "output_type": "execute_result"
    }
   ],
   "source": [
    "mix, post = tools.init(X, 3)\n",
    "post, ll = em_method.estep(X, mix)\n",
    "mix = em_method.mstep(X, post, mix)\n",
    "ll"
   ]
  },
  {
   "cell_type": "markdown",
   "metadata": {},
   "source": [
    "## Applying on Netflix Data\n",
    "Now is the time for the real test. We will load the Netflix user movie rating data and see how many missing entries are there."
   ]
  },
  {
   "cell_type": "code",
   "execution_count": 4,
   "metadata": {},
   "outputs": [
    {
     "name": "stdout",
     "output_type": "stream",
     "text": [
      "328232  missing entries!\n"
     ]
    }
   ],
   "source": [
    "X= np.loadtxt('netflix_incomplete.txt')\n",
    "print(np.sum(X==0),' missing entries!')"
   ]
  },
  {
   "cell_type": "markdown",
   "metadata": {},
   "source": [
    "The <b>EM</b> algorithm will create a Gaussian Mixture Model and then fill up the missing entries based on those Gaussian Mixtures."
   ]
  },
  {
   "cell_type": "code",
   "execution_count": 5,
   "metadata": {},
   "outputs": [
    {
     "name": "stdout",
     "output_type": "stream",
     "text": [
      "Likelihood is :  -1399820.8093013526\n"
     ]
    }
   ],
   "source": [
    "K=np.array([12])\n",
    "s=0\n",
    "for kk in K:\n",
    "    mix, post = tools.init( X, kk, s)\n",
    "    mixture, post, ll = em_method.run(X, mix, post)\n",
    "    print('Likelihood is : ',ll)\n",
    "    #common.plot( X, mixture, post, title='The  model for K = %d'%(kk))"
   ]
  },
  {
   "cell_type": "code",
   "execution_count": 6,
   "metadata": {},
   "outputs": [
    {
     "name": "stdout",
     "output_type": "stream",
     "text": [
      "Likelihood for seed  0  is :  -1399820.8093013526\n",
      "Likelihood for seed  1  is :  -1390280.999157461\n",
      "Likelihood for seed  2  is :  -1417137.302463856\n",
      "Likelihood for seed  3  is :  -1393103.8986528188\n"
     ]
    }
   ],
   "source": [
    "for s in range(4):\n",
    "    mix, post = tools.init( X, 12, s)\n",
    "    mixture, post, ll = em_method.run(X, mix, post)\n",
    "    print('Likelihood for seed ',s, ' is : ',ll)"
   ]
  },
  {
   "cell_type": "markdown",
   "metadata": {},
   "source": [
    "It seems like that the likelihood is highest at seed 1. Let's use that seed to run our algorithm."
   ]
  },
  {
   "cell_type": "code",
   "execution_count": 10,
   "metadata": {},
   "outputs": [
    {
     "name": "stdout",
     "output_type": "stream",
     "text": [
      "1271  missing entries!\n"
     ]
    }
   ],
   "source": [
    "mix, post = tools.init( X, 12, 1)\n",
    "mixture, post, ll = em_method.run(X, mix, post)\n",
    "\n",
    "xx = em_method.fill_matrix(X, mixture)\n",
    "print(np.sum(xx==0),' missing entries!')"
   ]
  },
  {
   "cell_type": "markdown",
   "metadata": {},
   "source": [
    "From 328232 missing entries to only 1271 missing entries. That is a great improvement. We can calculate the RMSE to quantify the improvement."
   ]
  },
  {
   "cell_type": "code",
   "execution_count": 12,
   "metadata": {},
   "outputs": [
    {
     "name": "stdout",
     "output_type": "stream",
     "text": [
      "The RMSE of the incomplete dataset is  1.6787480867863673\n",
      "And the RMSE of the incomplete dataset is  0.48050704941977734\n"
     ]
    }
   ],
   "source": [
    "Y = np.loadtxt('netflix_complete.txt')\n",
    "\n",
    "print('The RMSE of the incomplete dataset is ',tools.rmse(X,Y))\n",
    "print('And the RMSE of the incomplete dataset is ',tools.rmse(xx,Y))"
   ]
  },
  {
   "cell_type": "markdown",
   "metadata": {},
   "source": [
    "It seems like our Collaborative Filtering is a success."
   ]
  },
  {
   "cell_type": "code",
   "execution_count": null,
   "metadata": {},
   "outputs": [],
   "source": []
  }
 ],
 "metadata": {
  "kernelspec": {
   "display_name": "Python 3",
   "language": "python",
   "name": "python3"
  },
  "language_info": {
   "codemirror_mode": {
    "name": "ipython",
    "version": 3
   },
   "file_extension": ".py",
   "mimetype": "text/x-python",
   "name": "python",
   "nbconvert_exporter": "python",
   "pygments_lexer": "ipython3",
   "version": "3.8.3"
  }
 },
 "nbformat": 4,
 "nbformat_minor": 4
}
